{
 "cells": [
  {
   "cell_type": "code",
   "execution_count": 124,
   "id": "7e62371b-edf9-4b7f-9383-23f4f65016b8",
   "metadata": {},
   "outputs": [],
   "source": [
    "import google.generativeai as genai\n",
    "import os\n",
    "import re\n",
    "import openai\n",
    "from dotenv import load_dotenv, find_dotenv\n",
    "from PyPDF2 import PdfMerger\n",
    "import logging\n",
    "from collections import Counter\n",
    "from sklearn.feature_extraction.text import ENGLISH_STOP_WORDS\n",
    "import string\n",
    "from langchain.text_splitter import RecursiveCharacterTextSplitter\n",
    "from sentence_transformers import SentenceTransformer\n",
    "import faiss\n",
    "import numpy as np"
   ]
  },
  {
   "cell_type": "code",
   "execution_count": 125,
   "id": "b2bfbef3-07e6-45ca-8997-d0008aa48b65",
   "metadata": {},
   "outputs": [],
   "source": [
    "# Function to extract text from pdf's\n",
    "\n",
    "import pdfplumber\n",
    "\n",
    "logging.getLogger(\"pdfminer\").setLevel(logging.ERROR) # Only errors and critical issues will be shown, warnings will be hidden\n",
    "\n",
    "def extract_text_from_pdf(file_path):\n",
    "    text = \"\"\n",
    "    with pdfplumber.open(file_path) as pdf:\n",
    "        for page in pdf.pages:\n",
    "            text += (page.extract_text() or \"\") + \"\\n\"\n",
    "    return text.strip()"
   ]
  },
  {
   "cell_type": "code",
   "execution_count": 126,
   "id": "7421a17c-4fe5-41bc-868b-8cab17e3603b",
   "metadata": {},
   "outputs": [],
   "source": [
    "# Give multiple pdf's as input up to five\n",
    "\n",
    "pdf_paths = ['/Users/ashutoshpatil/Desktop/genai/data_structures_&_algorithms_resources/L04. Sorting algorithms_Part2_Day5.pdf',\n",
    "             '/Users/ashutoshpatil/Desktop/genai/data_structures_&_algorithms_resources/L04. Sorting algorithms_Part2_Day5.pdf',\n",
    "             '/Users/ashutoshpatil/Desktop/genai/data_structures_&_algorithms_resources/L02. Search algorithms_Day3.pdf',\n",
    "             '/Users/ashutoshpatil/Desktop/genai/data_structures_&_algorithms_resources/L03. Sorting algorithms_Part1_Day4.pdf',\n",
    "             '/Users/ashutoshpatil/Desktop/genai/data_structures_&_algorithms_resources/L07. Linked List_Day8.pdf']\n",
    "\n",
    "# sample paths\n",
    "# /Users/ashutoshpatil/Desktop/genai/data_structures_&_algorithms_resources/L01. Introduction and DSA_Day2.pdf \n",
    "# /Users/ashutoshpatil/Desktop/genai/data_structures_&_algorithms_resources/L01. Introduction and DSA_Day1.pdf \n",
    "# /Users/ashutoshpatil/Desktop/genai/data_structures_&_algorithms_resources/L02. Search algorithms_Day3.pdf "
   ]
  },
  {
   "cell_type": "code",
   "execution_count": 127,
   "id": "38d41b9c-c448-49ec-9227-7aa1449582d7",
   "metadata": {},
   "outputs": [],
   "source": [
    "# Merge into single pdf\n",
    "\n",
    "merged_pdf = \"merged_output.pdf\"\n",
    "merger = PdfMerger()\n",
    "for path in pdf_paths:\n",
    "    merger.append(path)\n",
    "merger.write(merged_pdf)\n",
    "merger.close()"
   ]
  },
  {
   "cell_type": "code",
   "execution_count": 128,
   "id": "8327a784-89ef-4f22-bb3a-8da8b5ab769d",
   "metadata": {},
   "outputs": [],
   "source": [
    "text = extract_text_from_pdf('merged_output.pdf')"
   ]
  },
  {
   "cell_type": "code",
   "execution_count": 129,
   "id": "e8f30e83-9890-4740-9690-ec938c13b4e9",
   "metadata": {},
   "outputs": [],
   "source": [
    "# Text pre-proceessing\n",
    "\n",
    "def flatten_text(text):   # used to remove \\n\n",
    "    lines = text.splitlines()\n",
    "    clean_lines = [line.strip() for line in lines if line.strip()]\n",
    "    return \" \".join(clean_lines)\n",
    "\n",
    "def remove_boilerplate(text):\n",
    "    text = re.sub(r'Page\\s*\\d+', '', text)  # remove \"Page 1\", \"Page 2\", ©. All rights reserve etc.\n",
    "    text = re.sub(r'©.*?All rights reserved\\.', '', text, flags=re.IGNORECASE)\n",
    "    return text\n",
    "\n",
    "def normalize_bullets(text):\n",
    "    # Convert bullet symbols to dashes\n",
    "    text = re.sub(r'[•●▪‣·]', '-', text)\n",
    "    text = re.sub(r'[\\uf0a7\\uf0b7\\uf076\\uf0d8\\uf0a3]', '-', text)\n",
    "    return text\n",
    "\n",
    "def normalize_whitespace(text):\n",
    "    # Remove multiple spaces\n",
    "    text = re.sub(r'\\s+', ' ', text)\n",
    "    # Replaces two or more newline character with single newline  \n",
    "    text = re.sub(r'\\n{2,}', '\\n', text)\n",
    "    return text.strip()\n",
    "\n",
    "def clean_pdf_text(text):\n",
    "    text = flatten_text(text)\n",
    "    text = remove_boilerplate(text)\n",
    "    text = normalize_bullets(text)\n",
    "    text = normalize_whitespace(text)\n",
    "    return text"
   ]
  },
  {
   "cell_type": "code",
   "execution_count": 130,
   "id": "fdbed0d0-6d4a-4de5-8e73-fc3545c45fa6",
   "metadata": {},
   "outputs": [],
   "source": [
    "cleaned_text = clean_pdf_text(text)"
   ]
  },
  {
   "cell_type": "code",
   "execution_count": 131,
   "id": "12635547-c738-4d7a-bee8-0223fa93f4ee",
   "metadata": {},
   "outputs": [],
   "source": [
    "# Chunking of data\n",
    "\n",
    "splitter = RecursiveCharacterTextSplitter(chunk_size=200, chunk_overlap=20)  # overlap is used to maintain context between chunks\n",
    "chunks = splitter.split_text(cleaned_text)"
   ]
  },
  {
   "cell_type": "code",
   "execution_count": 132,
   "id": "fd161371-83f0-4371-894d-b2ed3915e01b",
   "metadata": {},
   "outputs": [],
   "source": [
    "model = SentenceTransformer(\"all-MiniLM-L6-v2\")  # This model converts chunks into numerical embeddings (384) \n",
    "embeddings = model.encode(chunks)\n",
    "\n",
    "index = faiss.IndexFlatL2(embeddings.shape[1]) # creates vector search index using Euclidean dist \n",
    "index.add(np.array(embeddings))"
   ]
  },
  {
   "cell_type": "code",
   "execution_count": 133,
   "id": "e77faf32-032e-4db0-8f9c-32c918230c94",
   "metadata": {},
   "outputs": [],
   "source": [
    "\n",
    "query = \"Collect data about linked lists\"\n",
    "q_embed = model.encode([query])\n",
    "D, I = index.search(q_embed, k=5)  # will find top 5 most similar chunks to query\n",
    "retrieved_chunks = [chunks[i] for i in I[0]]\n",
    "context = \"\\n\\n\".join(retrieved_chunks)"
   ]
  },
  {
   "cell_type": "markdown",
   "id": "0fb14b6f-409e-4ace-8a3f-1853be37cc8b",
   "metadata": {},
   "source": [
    "## Tried using local LLM model Mistral - 7b , but did not get desired results"
   ]
  },
  {
   "cell_type": "code",
   "execution_count": 134,
   "id": "264fc019-c6ed-4330-8fe6-9ed1175c4dce",
   "metadata": {
    "scrolled": true
   },
   "outputs": [],
   "source": [
    "# model_path = \"/Users/ashutoshpatil/Desktop/genai/models/mistrial/mistral-7b-instruct-v0.1.Q4_K_M.gguf\"\n",
    "# llm = Llama(model_path=model_path, n_ctx=512, n_threads=4)"
   ]
  },
  {
   "cell_type": "code",
   "execution_count": 135,
   "id": "816fcea0-5e9b-43a2-983b-96d7ae4f3a48",
   "metadata": {},
   "outputs": [],
   "source": [
    "load_dotenv() # Loads variables from .env file\n",
    "api_key = os.getenv(\"MY_API_KEY\")"
   ]
  },
  {
   "cell_type": "code",
   "execution_count": 136,
   "id": "a236f1cd-b558-4d7b-8c4e-b64d639f0c15",
   "metadata": {},
   "outputs": [],
   "source": [
    "genai.configure(api_key=api_key)\n",
    "model_gemini = genai.GenerativeModel('gemini-2.0-flash')"
   ]
  },
  {
   "cell_type": "code",
   "execution_count": 137,
   "id": "7edf34d8-1a3f-4bfe-8e02-f4f5be2dec58",
   "metadata": {},
   "outputs": [],
   "source": [
    "# To make the quiz interactive\n",
    "\n",
    "def run_quiz_from_response(response_text):\n",
    "    global wrong_que  \n",
    "    questions = re.split(r'\\nQ\\d+\\.', response_text)\n",
    "    score = 0\n",
    "    total = 0\n",
    "    wrong_que = []\n",
    "\n",
    "    for q in questions[1:]:  # skip the first empty split\n",
    "        lines = q.strip().split('\\n')\n",
    "        question = lines[0].strip()\n",
    "        options = lines[1:5]\n",
    "        correct_line = next((line for line in lines if line.lower().startswith(\"correct answer\")), \"\")\n",
    "        correct_answer = correct_line.split(\":\")[-1].strip().upper()\n",
    "\n",
    "        print(f\"\\n{question}\")\n",
    "        for opt in options:\n",
    "            print(opt)\n",
    "\n",
    "        user_ans = input(\"Your answer (A/B/C/D): \").strip().upper()\n",
    "        if user_ans == correct_answer:\n",
    "            print(\"✅ Correct!\")\n",
    "            score += 1\n",
    "        else:\n",
    "            print(f\"❌ Incorrect. Correct answer: {correct_answer}\")\n",
    "            wrong_que.append(question)\n",
    "        total += 1\n",
    "\n",
    "    print(f\"\\n🎯 Final Score: {score}/{total}\")\n",
    "    print(f\"Percentage : {round((score / total) * 100,2)}% \")"
   ]
  },
  {
   "cell_type": "code",
   "execution_count": 138,
   "id": "31271e7c-19fa-4d32-903d-a76442473606",
   "metadata": {},
   "outputs": [
    {
     "name": "stdout",
     "output_type": "stream",
     "text": [
      "\n",
      "What does the simplest form of a linked list typically include?\n",
      "A. A queue\n",
      "B. An array\n",
      "C. A header pointer\n",
      "D. A stack\n"
     ]
    },
    {
     "name": "stdin",
     "output_type": "stream",
     "text": [
      "Your answer (A/B/C/D):  a\n"
     ]
    },
    {
     "name": "stdout",
     "output_type": "stream",
     "text": [
      "❌ Incorrect. Correct answer: C\n",
      "\n",
      "In a linked list, what is the purpose of the header?\n",
      "A. To store the last data element\n",
      "B. To point to the first node of the list\n",
      "C. To calculate the list's size\n",
      "D. To manage memory allocation\n"
     ]
    },
    {
     "name": "stdin",
     "output_type": "stream",
     "text": [
      "Your answer (A/B/C/D):  b\n"
     ]
    },
    {
     "name": "stdout",
     "output_type": "stream",
     "text": [
      "✅ Correct!\n",
      "\n",
      "Which of the following is a key difference between a singly and doubly linked list?\n",
      "A. Singly linked lists cannot store data.\n",
      "B. Doubly linked lists contain two address fields.\n",
      "C. Singly linked lists are always circular.\n",
      "D. Doubly linked lists don't require a header.\n"
     ]
    },
    {
     "name": "stdin",
     "output_type": "stream",
     "text": [
      "Your answer (A/B/C/D):  b\n"
     ]
    },
    {
     "name": "stdout",
     "output_type": "stream",
     "text": [
      "✅ Correct!\n",
      "\n",
      "When displaying the contents of a linked list, what is the key action to perform?\n",
      "A. Reverse the order of the list\n",
      "B. Follow the pointers\n",
      "C. Sort the data alphabetically\n",
      "D. Delete every other node\n"
     ]
    },
    {
     "name": "stdin",
     "output_type": "stream",
     "text": [
      "Your answer (A/B/C/D):  b\n"
     ]
    },
    {
     "name": "stdout",
     "output_type": "stream",
     "text": [
      "✅ Correct!\n",
      "\n",
      "When traversing and displaying a linked list, when should you stop?\n",
      "A. When the list is empty\n",
      "B. When the data is corrupted\n",
      "C. When the next pointer is NULL\n",
      "D. After printing the first element\n"
     ]
    },
    {
     "name": "stdin",
     "output_type": "stream",
     "text": [
      "Your answer (A/B/C/D):  c\n"
     ]
    },
    {
     "name": "stdout",
     "output_type": "stream",
     "text": [
      "✅ Correct!\n",
      "\n",
      "🎯 Final Score: 4/5\n",
      "Percentage : 80.0% \n"
     ]
    }
   ],
   "source": [
    "# If text is more than 10000 words then we summarize it under 10000 words to get optimum perofrmance\n",
    "no_of_questions = 6\n",
    "\n",
    "# print(response.text)\n",
    "prompt = f\"\"\"\n",
    "Generate a {no_of_questions} question multiple-choice quiz from the following content.\n",
    "Each question should have exactly 4 options (A to D) and a separate line for the correct answer.\n",
    "\n",
    "Format:\n",
    "                                                 \n",
    "Q1. <question text>\n",
    "A. <option>\n",
    "B. <option>\n",
    "C. <option>\n",
    "D. <option>\n",
    "Correct Answer: <option letter>\n",
    "\n",
    "Content:\n",
    "{context}\n",
    "\"\"\"\n",
    "response = model_gemini.generate_content(prompt)\n",
    "run_quiz_from_response(response.text)"
   ]
  },
  {
   "cell_type": "code",
   "execution_count": 140,
   "id": "35c70bbd-ff26-4d94-96e9-423522641e86",
   "metadata": {},
   "outputs": [
    {
     "name": "stdout",
     "output_type": "stream",
     "text": [
      "Here are the areas the student needs to work on:\n",
      "\n",
      "*   **Basic Linked List Structure:** Understanding the fundamental components.\n",
      "\n"
     ]
    }
   ],
   "source": [
    "# Feedback \n",
    "if len(wrong_que) == 0:\n",
    "    print('You are doing great!')\n",
    "else:\n",
    "    prompt = f\"\"\" The student got these questions wrong {wrong_que}. Identify and only provide 1 o 2 areas \n",
    "                   per question which student needs to work on in the bullet points format. Don't give \n",
    "                   question in output\"\"\"\n",
    "    \n",
    "    response = model_gemini.generate_content(prompt)\n",
    "    print(response.text)"
   ]
  },
  {
   "cell_type": "code",
   "execution_count": null,
   "id": "bc3da284-f131-4f92-b368-e8b7bc7eb42e",
   "metadata": {},
   "outputs": [],
   "source": []
  },
  {
   "cell_type": "code",
   "execution_count": null,
   "id": "24cefd83-1863-4e11-84a4-551879fbb632",
   "metadata": {},
   "outputs": [],
   "source": []
  },
  {
   "cell_type": "code",
   "execution_count": null,
   "id": "0a9c23c7-87f3-4c04-9eee-9114929d9fad",
   "metadata": {},
   "outputs": [],
   "source": []
  }
 ],
 "metadata": {
  "kernelspec": {
   "display_name": "Python 3 (ipykernel)",
   "language": "python",
   "name": "python3"
  },
  "language_info": {
   "codemirror_mode": {
    "name": "ipython",
    "version": 3
   },
   "file_extension": ".py",
   "mimetype": "text/x-python",
   "name": "python",
   "nbconvert_exporter": "python",
   "pygments_lexer": "ipython3",
   "version": "3.12.4"
  }
 },
 "nbformat": 4,
 "nbformat_minor": 5
}
